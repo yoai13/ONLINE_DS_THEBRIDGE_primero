{
 "cells": [
  {
   "cell_type": "code",
   "execution_count": 2,
   "id": "f0546585-8a9d-4b39-b142-ddad9f90c25d",
   "metadata": {},
   "outputs": [
    {
     "data": {
      "text/plain": [
       "int"
      ]
     },
     "execution_count": 2,
     "metadata": {},
     "output_type": "execute_result"
    }
   ],
   "source": [
    "numero = 47\n",
    "type (numero)"
   ]
  },
  {
   "cell_type": "code",
   "execution_count": 3,
   "id": "d68e4ccf-47f4-41b8-806c-0b434e68dfe7",
   "metadata": {},
   "outputs": [
    {
     "name": "stdout",
     "output_type": "stream",
     "text": [
      "<class 'float'>\n"
     ]
    }
   ],
   "source": [
    "numero_real = 9.9\n",
    "print (type(numero_real))"
   ]
  },
  {
   "cell_type": "code",
   "execution_count": 4,
   "id": "e0513f35-dab5-4e11-a320-7706989b3805",
   "metadata": {},
   "outputs": [
    {
     "name": "stdout",
     "output_type": "stream",
     "text": [
      "Sumas\n",
      "56.9\n"
     ]
    }
   ],
   "source": [
    "print (\"Sumas\")\n",
    "print (numero + numero_real)"
   ]
  },
  {
   "cell_type": "code",
   "execution_count": 5,
   "id": "385f08f3-e735-4509-89ec-9957b5e84109",
   "metadata": {},
   "outputs": [
    {
     "name": "stdout",
     "output_type": "stream",
     "text": [
      "<class 'float'>\n"
     ]
    }
   ],
   "source": [
    "print (type (numero + numero_real))"
   ]
  },
  {
   "cell_type": "code",
   "execution_count": null,
   "id": "94f72f08-740c-41d1-8dfa-7ee7d17a575f",
   "metadata": {},
   "outputs": [],
   "source": [
    "numero.clear()\n",
    "numero_real.clear()\n",
    "print (numero)\n",
    "print (numero_real)"
   ]
  },
  {
   "cell_type": "code",
   "execution_count": 4,
   "id": "317e9efc-b9af-4948-860d-8e063061bade",
   "metadata": {},
   "outputs": [
    {
     "name": "stdin",
     "output_type": "stream",
     "text": [
      "Pasar de grado a radianes \n"
     ]
    },
    {
     "name": "stdout",
     "output_type": "stream",
     "text": [
      "1.3955555555555557\n",
      "\n"
     ]
    }
   ],
   "source": [
    "radianes = 80*(3.14/180)\n",
    "primer_input = input (\"Pasar de grado a radianes\")\n",
    "print (radianes)\n",
    "print (primer_input)"
   ]
  },
  {
   "cell_type": "code",
   "execution_count": 7,
   "id": "b65cabc3-8a53-46eb-a425-550f972c0b73",
   "metadata": {},
   "outputs": [
    {
     "name": "stdin",
     "output_type": "stream",
     "text": [
      "La base del paralelogramo es \n"
     ]
    },
    {
     "name": "stdout",
     "output_type": "stream",
     "text": [
      "\n",
      "30\n"
     ]
    }
   ],
   "source": [
    "Base = 10\n",
    "Altura =3\n",
    "Paralelogramo = Base * Altura\n",
    "segundo_input = input (\"La base del paralelogramo es\")\n",
    "print (segundo_input)\n",
    "print (Paralelogramo)"
   ]
  },
  {
   "cell_type": "code",
   "execution_count": 8,
   "id": "e2e7871c-11d6-4d71-b0e3-e6acdb4c2cd0",
   "metadata": {},
   "outputs": [
    {
     "name": "stdin",
     "output_type": "stream",
     "text": [
      "La base del paralelogramo es \n"
     ]
    },
    {
     "name": "stdout",
     "output_type": "stream",
     "text": [
      "\n",
      "31.5\n"
     ]
    }
   ],
   "source": [
    "Base = 10.5\n",
    "Altura =3\n",
    "Paralelogramo = Base * Altura\n",
    "segundo_input = input (\"La base del paralelogramo es\")\n",
    "print (segundo_input.replace (\"r\", \"l\"))\n",
    "print (Paralelogramo)"
   ]
  },
  {
   "cell_type": "code",
   "execution_count": 14,
   "id": "bffd8a76-f627-46f9-916b-fa82dd5d6237",
   "metadata": {},
   "outputs": [
    {
     "name": "stdin",
     "output_type": "stream",
     "text": [
      "¿Cuál es tu nombre?  María\n",
      "¿Cuál es tu edad?  20 años\n"
     ]
    },
    {
     "name": "stdout",
     "output_type": "stream",
     "text": [
      "2005\n"
     ]
    }
   ],
   "source": [
    "tercer_input = input (\"¿Cuál es tu nombre? \")\n",
    "cuarto_input = input (\"¿Cuál es tu edad? \")\n",
    "año_actual = 2025  # Puedes cambiarlo según el año en curso\n",
    "año_nacimiento = año_actual - 20\n",
    "\n",
    "print(año_nacimiento)"
   ]
  },
  {
   "cell_type": "code",
   "execution_count": null,
   "id": "56613529-121e-4d20-a38c-c282bce28648",
   "metadata": {},
   "outputs": [],
   "source": []
  }
 ],
 "metadata": {
  "kernelspec": {
   "display_name": "Python 3 (ipykernel)",
   "language": "python",
   "name": "python3"
  },
  "language_info": {
   "codemirror_mode": {
    "name": "ipython",
    "version": 3
   },
   "file_extension": ".py",
   "mimetype": "text/x-python",
   "name": "python",
   "nbconvert_exporter": "python",
   "pygments_lexer": "ipython3",
   "version": "3.13.2"
  }
 },
 "nbformat": 4,
 "nbformat_minor": 5
}
