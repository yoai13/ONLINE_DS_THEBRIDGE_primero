{
 "cells": [
  {
   "cell_type": "markdown",
   "id": "5b20518c-ed9b-4834-87ba-022fb92dad97",
   "metadata": {},
   "source": [
    "* Manzanas\n",
    "- Plátanos\n",
    "+ Uvas"
   ]
  },
  {
   "cell_type": "markdown",
   "id": "b18712be-17bd-495a-b6d4-9cc1579de2cf",
   "metadata": {},
   "source": [
    "* Frutas y verduras\n",
    "    1. Plátano\n",
    "    2. Manzana\n",
    "    3. Pera\n",
    "        * Melocotón\n",
    "        - Melón\n",
    "        + Ciruela\n",
    "    1. Puerro\n",
    "    2. Calabacín\n",
    "    3. Calabaza\n",
    "        * Pimiento\n",
    "        - Cebolla\n",
    "        + Berenjena\n",
    "\n"
   ]
  },
  {
   "cell_type": "markdown",
   "id": "2c89f586-86f7-41e5-98bc-009f9dc55847",
   "metadata": {},
   "source": [
    "[Por aquí se cruzan puentes](www.thebridge.com)"
   ]
  },
  {
   "cell_type": "markdown",
   "id": "8cc56209-f5cb-4786-b0a9-f739b551f8d8",
   "metadata": {},
   "source": [
    "![logo](https://caballero.es/wp-content/uploads/sites/2/2024/02/Vermut-Rojo-Magnum-266x352.jpg)"
   ]
  },
  {
   "cell_type": "code",
   "execution_count": null,
   "id": "32cf1e71-d98f-41c4-8b3c-ecc2fb17367d",
   "metadata": {},
   "outputs": [],
   "source": []
  }
 ],
 "metadata": {
  "kernelspec": {
   "display_name": "Python 3 (ipykernel)",
   "language": "python",
   "name": "python3"
  },
  "language_info": {
   "codemirror_mode": {
    "name": "ipython",
    "version": 3
   },
   "file_extension": ".py",
   "mimetype": "text/x-python",
   "name": "python",
   "nbconvert_exporter": "python",
   "pygments_lexer": "ipython3",
   "version": "3.13.2"
  }
 },
 "nbformat": 4,
 "nbformat_minor": 5
}
