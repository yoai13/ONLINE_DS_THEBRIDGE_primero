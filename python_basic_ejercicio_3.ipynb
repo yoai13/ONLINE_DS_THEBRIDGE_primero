{
 "cells": [
  {
   "cell_type": "code",
   "execution_count": 1,
   "id": "0d7b9dcf-80d5-4c72-af91-0e0d91cc9fbf",
   "metadata": {},
   "outputs": [
    {
     "name": "stdout",
     "output_type": "stream",
     "text": [
      "8\n"
     ]
    }
   ],
   "source": [
    "print (max (4, 6, 8, -1))"
   ]
  },
  {
   "cell_type": "code",
   "execution_count": 2,
   "id": "4998c997-f3df-4f9f-b8b3-40d905db79b1",
   "metadata": {},
   "outputs": [
    {
     "name": "stdout",
     "output_type": "stream",
     "text": [
      "17\n"
     ]
    }
   ],
   "source": [
    "print (4 + 6 + 8 + -1)"
   ]
  },
  {
   "cell_type": "code",
   "execution_count": 3,
   "id": "0a863b4d-ae23-4ec8-8654-3934263824c3",
   "metadata": {},
   "outputs": [
    {
     "name": "stdout",
     "output_type": "stream",
     "text": [
      "63.451\n"
     ]
    }
   ],
   "source": [
    "num_real = 63.451256965\n",
    "num_redondeado = round (num_real, 3)\n",
    "print (num_redondeado)"
   ]
  },
  {
   "cell_type": "code",
   "execution_count": 5,
   "id": "c2760674-a188-4901-9d9f-aab002a8438e",
   "metadata": {},
   "outputs": [
    {
     "name": "stdout",
     "output_type": "stream",
     "text": [
      "74.0\n"
     ]
    }
   ],
   "source": [
    "import math\n",
    "print (math.fabs (-74))"
   ]
  },
  {
   "cell_type": "code",
   "execution_count": 10,
   "id": "2fc05578-01aa-4a67-b111-11b7daec2f68",
   "metadata": {},
   "outputs": [
    {
     "name": "stdout",
     "output_type": "stream",
     "text": [
      "EN UN LUGAR DE LA MANCHA, DE CUYO NOMBRE NO QUIERO ACORDARME.\n",
      "en un lugar de la mancha, de cuyo nombre no quiero acordarme.\n",
      "En Un Lugar De La Mancha, De Cuyo Nombre No Quiero Acordarme.\n",
      "['En', 'un', 'lugar', 'de', 'la', 'Mancha,', 'de', 'cuyo', 'nombre', 'no', 'quiero', 'acordarme.']\n",
      "En un lugar de la Mancha; de cuyo nombre no quiero acordarme.\n",
      "En un lug r de l  M nch , de cuyo nombre no quiero  cord rme.\n"
     ]
    }
   ],
   "source": [
    "string_ejemplo = \"En un lugar de la Mancha, de cuyo nombre no quiero acordarme.\"\n",
    "print (string_ejemplo.upper())\n",
    "print (string_ejemplo.lower())\n",
    "print (string_ejemplo.title ())\n",
    "print (string_ejemplo.split())\n",
    "print (string_ejemplo.replace(\",\" , \";\"))\n",
    "print (string_ejemplo.replace(\"a\" , \" \"))"
   ]
  },
  {
   "cell_type": "code",
   "execution_count": 11,
   "id": "8f8cc87a-071b-4d35-a655-d769ca807975",
   "metadata": {},
   "outputs": [
    {
     "name": "stdout",
     "output_type": "stream",
     "text": [
      "[1, 7, 9]\n",
      "<class 'list'>\n"
     ]
    }
   ],
   "source": [
    "numeros = [1, 7, 9]\n",
    "print (numeros)\n",
    "print (type(numeros))"
   ]
  },
  {
   "cell_type": "code",
   "execution_count": 13,
   "id": "d3ab7c06-61c2-402b-9165-f274ca72877e",
   "metadata": {},
   "outputs": [
    {
     "name": "stdout",
     "output_type": "stream",
     "text": [
      "[1, 7, 9, '4', 4]\n"
     ]
    }
   ],
   "source": [
    "numeros.append(4)\n",
    "print(numeros)"
   ]
  },
  {
   "cell_type": "code",
   "execution_count": 14,
   "id": "16ab1480-4faa-4214-baa2-c7800adc2783",
   "metadata": {},
   "outputs": [
    {
     "name": "stdout",
     "output_type": "stream",
     "text": [
      "[1, 7, 9, 4]\n"
     ]
    }
   ],
   "source": [
    "numeros.pop(3)\n",
    "print(numeros)"
   ]
  },
  {
   "cell_type": "code",
   "execution_count": 15,
   "id": "6f56fc40-14df-4bbb-bd85-c871d3c4d249",
   "metadata": {},
   "outputs": [
    {
     "name": "stdout",
     "output_type": "stream",
     "text": [
      "21\n"
     ]
    }
   ],
   "source": [
    "suma_numeros = 1 + 7 + 9 +4\n",
    "print(suma_numeros)"
   ]
  },
  {
   "cell_type": "code",
   "execution_count": 16,
   "id": "517fd7d1-709f-4573-9cbe-ec8093dd536f",
   "metadata": {},
   "outputs": [
    {
     "name": "stdout",
     "output_type": "stream",
     "text": [
      "[1, 9, 4]\n"
     ]
    }
   ],
   "source": [
    "numeros.pop(1)\n",
    "print(numeros)"
   ]
  },
  {
   "cell_type": "code",
   "execution_count": 17,
   "id": "cf5dcf67-b163-400a-8ffb-4f32673d60e8",
   "metadata": {},
   "outputs": [
    {
     "name": "stdout",
     "output_type": "stream",
     "text": [
      "[1, 9, 4, 8]\n"
     ]
    }
   ],
   "source": [
    "numeros.insert (3, 8)\n",
    "print(numeros)"
   ]
  },
  {
   "cell_type": "code",
   "execution_count": 18,
   "id": "f508d92c-fb47-4264-a0db-34bff798268a",
   "metadata": {},
   "outputs": [
    {
     "name": "stdout",
     "output_type": "stream",
     "text": [
      "[2, 8, 5, 7]\n"
     ]
    }
   ],
   "source": [
    "numeros_dos = [2, 8, 5, 7]\n",
    "print(numeros_dos)"
   ]
  },
  {
   "cell_type": "code",
   "execution_count": 19,
   "id": "f10ebc5b-b756-4fee-8cb5-da0c345f70f6",
   "metadata": {},
   "outputs": [
    {
     "name": "stdout",
     "output_type": "stream",
     "text": [
      "[1, 9, 4, 8, 2, 8, 5, 7]\n"
     ]
    }
   ],
   "source": [
    "lista_final = numeros + numeros_dos\n",
    "print(lista_final)"
   ]
  },
  {
   "cell_type": "code",
   "execution_count": 20,
   "id": "68fe6b99-b2b8-4396-bca8-5032721375b1",
   "metadata": {},
   "outputs": [
    {
     "name": "stdout",
     "output_type": "stream",
     "text": [
      "[1, 2, 4, 5, 7, 8, 8, 9]\n"
     ]
    }
   ],
   "source": [
    "lista_final.sort()\n",
    "print(lista_final)"
   ]
  },
  {
   "cell_type": "code",
   "execution_count": 3,
   "id": "2514532f-e587-4749-9fbe-2f92f5eecf01",
   "metadata": {},
   "outputs": [
    {
     "name": "stdout",
     "output_type": "stream",
     "text": [
      "[9, 8, 8, 7, 5, 4, 2, 1]\n"
     ]
    }
   ],
   "source": [
    "lista_final = [1, 2, 4, 5, 7, 8, 8, 9]\n",
    "lista_final.reverse()\n",
    "print(lista_final)"
   ]
  },
  {
   "cell_type": "code",
   "execution_count": null,
   "id": "49605fb8-bcd7-4798-b373-424b3f924c9c",
   "metadata": {},
   "outputs": [],
   "source": []
  }
 ],
 "metadata": {
  "kernelspec": {
   "display_name": "Python 3 (ipykernel)",
   "language": "python",
   "name": "python3"
  },
  "language_info": {
   "codemirror_mode": {
    "name": "ipython",
    "version": 3
   },
   "file_extension": ".py",
   "mimetype": "text/x-python",
   "name": "python",
   "nbconvert_exporter": "python",
   "pygments_lexer": "ipython3",
   "version": "3.13.2"
  }
 },
 "nbformat": 4,
 "nbformat_minor": 5
}
