{
 "cells": [
  {
   "cell_type": "code",
   "execution_count": 1,
   "id": "0e856f2d-3ad6-44a3-bf80-72f430b0fb05",
   "metadata": {},
   "outputs": [
    {
     "name": "stdout",
     "output_type": "stream",
     "text": [
      "<class 'int'>\n",
      "<class 'str'>\n",
      "<class 'float'>\n"
     ]
    }
   ],
   "source": [
    "A = 4\n",
    "B = \"Text\"\n",
    "C = 4.1\n",
    "print (type(A))\n",
    "print (type(B))\n",
    "print (type(C))"
   ]
  },
  {
   "cell_type": "code",
   "execution_count": 2,
   "id": "cc12f754-08bf-40f1-bd01-8b1e17b3c325",
   "metadata": {},
   "outputs": [
    {
     "name": "stdout",
     "output_type": "stream",
     "text": [
      "False\n"
     ]
    }
   ],
   "source": [
    "print (A > C)"
   ]
  },
  {
   "cell_type": "code",
   "execution_count": 3,
   "id": "f3b4735d-f405-4902-9321-69e95aadc600",
   "metadata": {},
   "outputs": [
    {
     "name": "stdout",
     "output_type": "stream",
     "text": [
      "False\n"
     ]
    }
   ],
   "source": [
    "print (C <= A)"
   ]
  },
  {
   "cell_type": "code",
   "execution_count": 4,
   "id": "eb8c39e3-6981-4f74-8367-132506bad6f9",
   "metadata": {},
   "outputs": [
    {
     "name": "stdout",
     "output_type": "stream",
     "text": [
      "False\n"
     ]
    }
   ],
   "source": [
    "print ( B == C)"
   ]
  },
  {
   "cell_type": "code",
   "execution_count": 3,
   "id": "4bdc7dd0-07fc-4d98-b156-cbdeee8d2131",
   "metadata": {},
   "outputs": [
    {
     "name": "stdin",
     "output_type": "stream",
     "text": [
      "Por fin es Viernes \n"
     ]
    },
    {
     "name": "stdout",
     "output_type": "stream",
     "text": [
      "Y toca ir a bailar\n"
     ]
    },
    {
     "name": "stdin",
     "output_type": "stream",
     "text": [
      "Me invitas a una copa \n"
     ]
    },
    {
     "name": "stdout",
     "output_type": "stream",
     "text": [
      "Perfecto\n"
     ]
    }
   ],
   "source": [
    "primer_input = input (\"Por fin es Viernes\")\n",
    "print (\"Y toca ir a bailar\")\n",
    "segundo_input = input (\"Me invitas a una copa\")\n",
    "print (\"Perfecto\")"
   ]
  },
  {
   "cell_type": "code",
   "execution_count": 5,
   "id": "d35f2b8a-25ae-458d-9099-6f895f9f651b",
   "metadata": {},
   "outputs": [
    {
     "name": "stdin",
     "output_type": "stream",
     "text": [
      "A = B \n"
     ]
    },
    {
     "name": "stdout",
     "output_type": "stream",
     "text": [
      "Todos son iguales: True\n"
     ]
    },
    {
     "name": "stdin",
     "output_type": "stream",
     "text": [
      "A = 12, B = 12, C = 6 \n"
     ]
    },
    {
     "name": "stdout",
     "output_type": "stream",
     "text": [
      "Todos son iguales: False\n"
     ]
    },
    {
     "name": "stdin",
     "output_type": "stream",
     "text": [
      "C = 6, D = 9 \n"
     ]
    }
   ],
   "source": [
    "primer_input = input (\"A = B\")\n",
    "print (\"Todos son iguales: True\")\n",
    "segundo_input = input (\"A = 12, B = 12, C = 6\")\n",
    "print (\"Todos son iguales: False\")\n",
    "tercer_input = input (\"C = 6, D = 9\")"
   ]
  },
  {
   "cell_type": "code",
   "execution_count": null,
   "id": "2dbdea51-2474-471d-9eda-40f6c555fc7c",
   "metadata": {},
   "outputs": [],
   "source": []
  }
 ],
 "metadata": {
  "kernelspec": {
   "display_name": "Python 3 (ipykernel)",
   "language": "python",
   "name": "python3"
  },
  "language_info": {
   "codemirror_mode": {
    "name": "ipython",
    "version": 3
   },
   "file_extension": ".py",
   "mimetype": "text/x-python",
   "name": "python",
   "nbconvert_exporter": "python",
   "pygments_lexer": "ipython3",
   "version": "3.13.2"
  }
 },
 "nbformat": 4,
 "nbformat_minor": 5
}
