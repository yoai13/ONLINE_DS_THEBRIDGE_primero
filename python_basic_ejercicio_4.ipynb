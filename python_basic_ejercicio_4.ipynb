{
 "cells": [
  {
   "cell_type": "code",
   "execution_count": 13,
   "id": "78f8e67e-c65b-4503-953b-62e362fdac4f",
   "metadata": {},
   "outputs": [
    {
     "name": "stdin",
     "output_type": "stream",
     "text": [
      "Buenas tardes, bienvenido al servicio de pedido online, el precio de nuestra pizzas es de 8,95 para la familiar o de 9,90 para la mediana ¿Cuántas pizzas familiares desea? \n"
     ]
    },
    {
     "name": "stdout",
     "output_type": "stream",
     "text": [
      "9\n",
      "80.55\n"
     ]
    },
    {
     "name": "stdin",
     "output_type": "stream",
     "text": [
      "Estupendo, ¿cuántas pizzas medianas desea? \n"
     ]
    },
    {
     "name": "stdout",
     "output_type": "stream",
     "text": [
      "2\n",
      "19.8\n"
     ]
    },
    {
     "name": "stdin",
     "output_type": "stream",
     "text": [
      "Estupendo, se están preparando 'pizz_familiar'pizzas familiares y 'pizz_mediana' pizzas medianas. Digame su dirección \n"
     ]
    },
    {
     "name": "stdout",
     "output_type": "stream",
     "text": [
      "la Senda 15\n"
     ]
    },
    {
     "name": "stdin",
     "output_type": "stream",
     "text": [
      "Le mandaremos las '(monto_real)' pizzas a la dirección 'direcc'. Serán '(monto_pizza)' . Muchas gracias por su pedido. \n"
     ]
    },
    {
     "name": "stdout",
     "output_type": "stream",
     "text": [
      "\n"
     ]
    }
   ],
   "source": [
    "saludo = input (\"Buenas tardes, bienvenido al servicio de pedido online, el precio de nuestra pizzas es de 8,95 para la familiar o de 9,90 para la mediana ¿Cuántas pizzas familiares desea?\")\n",
    "pizz_familiar = 9\n",
    "print (pizz_familiar)\n",
    "monto_pizz_familiar = 9*8.95\n",
    "print(monto_pizz_familiar)\n",
    "respuesta = input (\"Estupendo, ¿cuántas pizzas medianas desea?\")\n",
    "pizz_mediana = 2\n",
    "print (pizz_mediana)\n",
    "monto_pizz_mediana = 2*9.9\n",
    "print(monto_pizz_mediana)\n",
    "datos = input (\"Estupendo, se están preparando 'pizz_familiar'pizzas familiares y 'pizz_mediana' pizzas medianas. Digame su dirección\")\n",
    "direcc = \"la Senda 15\"\n",
    "print(direcc)\n",
    "monto_real = pizz_familiar + pizz_mediana\n",
    "monto_pizza = monto_pizz_mediana + monto_pizz_familiar\n",
    "final = input (\"Le mandaremos las '(monto_real)' pizzas a la dirección 'direcc'. Serán '(monto_pizza)' . Muchas gracias por su pedido.\")\n",
    "print (final)"
   ]
  },
  {
   "cell_type": "code",
   "execution_count": 15,
   "id": "33cf6125-2c67-40f0-bd35-7562eff94ceb",
   "metadata": {},
   "outputs": [
    {
     "name": "stdout",
     "output_type": "stream",
     "text": [
      "[3, 0, 4]\n",
      "<class 'list'>\n"
     ]
    }
   ],
   "source": [
    "numeros = [3, 0, 4]\n",
    "print(numeros)\n",
    "print(type(numeros))"
   ]
  },
  {
   "cell_type": "code",
   "execution_count": 16,
   "id": "9e4b2166-0696-4147-9f09-60b8d44de1ac",
   "metadata": {},
   "outputs": [
    {
     "name": "stdout",
     "output_type": "stream",
     "text": [
      "4\n",
      "0\n",
      "7\n"
     ]
    }
   ],
   "source": [
    "print(max(3, 0, 4))\n",
    "print(min(3, 0, 4))\n",
    "suma_lista = 3 + 0 + 4\n",
    "print(suma_lista)"
   ]
  },
  {
   "cell_type": "code",
   "execution_count": 19,
   "id": "d9da81e8-9701-4bed-a303-7300416c4efc",
   "metadata": {},
   "outputs": [
    {
     "data": {
      "text/plain": [
       "False"
      ]
     },
     "execution_count": 19,
     "metadata": {},
     "output_type": "execute_result"
    }
   ],
   "source": [
    "4 - 0 == suma_lista/5"
   ]
  },
  {
   "cell_type": "code",
   "execution_count": null,
   "id": "075267bd-2f53-46d9-920e-3c37146a680d",
   "metadata": {},
   "outputs": [],
   "source": []
  }
 ],
 "metadata": {
  "kernelspec": {
   "display_name": "Python 3 (ipykernel)",
   "language": "python",
   "name": "python3"
  },
  "language_info": {
   "codemirror_mode": {
    "name": "ipython",
    "version": 3
   },
   "file_extension": ".py",
   "mimetype": "text/x-python",
   "name": "python",
   "nbconvert_exporter": "python",
   "pygments_lexer": "ipython3",
   "version": "3.13.2"
  }
 },
 "nbformat": 4,
 "nbformat_minor": 5
}
