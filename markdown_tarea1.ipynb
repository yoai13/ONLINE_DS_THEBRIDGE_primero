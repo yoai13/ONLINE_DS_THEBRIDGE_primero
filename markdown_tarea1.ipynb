{
 "cells": [
  {
   "cell_type": "markdown",
   "id": "6e6e203b-75cc-4fb1-9e1e-55a215394549",
   "metadata": {},
   "source": [
    "# Ciencia de Datos\n",
    "## Introducción\n",
    "### Herramientas"
   ]
  },
  {
   "cell_type": "markdown",
   "id": "6828834f-fce3-4bd4-8c98-61c51be7ae1b",
   "metadata": {},
   "source": [
    "**Markdown** *Jupyter* ***Python***"
   ]
  },
  {
   "cell_type": "markdown",
   "id": "c383bf02-085c-40b2-881d-159b774a015b",
   "metadata": {},
   "source": [
    "`resaltado`"
   ]
  },
  {
   "cell_type": "markdown",
   "id": "7922ae33-a210-4d9d-a1f8-d44fe71bcecc",
   "metadata": {},
   "source": [
    "<font color=\"blue\">Color</font>"
   ]
  },
  {
   "cell_type": "markdown",
   "id": "46a11016-a445-44cd-ae90-f26ee3984257",
   "metadata": {},
   "source": [
    ">La Ciencia de Datos es el petróleo del Siglo XXI\n",
    ">>La Ciencia de Datos es el petróleo del Siglo XXI"
   ]
  },
  {
   "cell_type": "markdown",
   "id": "7a20daf1-dc44-4a2a-9c57-9d6d030d9daf",
   "metadata": {},
   "source": [
    "## Curso de Markdown\n",
    "\n",
    "Este curso es muy**importante**\n",
    "\n",
    ">Aprender es crecer"
   ]
  },
  {
   "cell_type": "code",
   "execution_count": null,
   "id": "aa09a4cb-e56a-4717-9d35-c0059b29da4d",
   "metadata": {},
   "outputs": [],
   "source": []
  }
 ],
 "metadata": {
  "kernelspec": {
   "display_name": "Python 3 (ipykernel)",
   "language": "python",
   "name": "python3"
  },
  "language_info": {
   "codemirror_mode": {
    "name": "ipython",
    "version": 3
   },
   "file_extension": ".py",
   "mimetype": "text/x-python",
   "name": "python",
   "nbconvert_exporter": "python",
   "pygments_lexer": "ipython3",
   "version": "3.13.2"
  }
 },
 "nbformat": 4,
 "nbformat_minor": 5
}
